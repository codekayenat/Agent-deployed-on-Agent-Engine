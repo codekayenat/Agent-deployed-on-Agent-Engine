{
  "nbformat": 4,
  "nbformat_minor": 0,
  "metadata": {
    "colab": {
      "provenance": [],
      "toc_visible": true,
      "authorship_tag": "ABX9TyOPHibT8SHRxDtyV3LhRMvG",
      "include_colab_link": true
    },
    "kernelspec": {
      "name": "python3",
      "display_name": "Python 3"
    },
    "language_info": {
      "name": "python"
    }
  },
  "cells": [
    {
      "cell_type": "markdown",
      "metadata": {
        "id": "view-in-github",
        "colab_type": "text"
      },
      "source": [
        "<a href=\"https://colab.research.google.com/github/codekayenat/Agent-deployed-on-Agent-Engine/blob/main/Deploy_AI_Agent_On_Agent_Engine.ipynb\" target=\"_parent\"><img src=\"https://colab.research.google.com/assets/colab-badge.svg\" alt=\"Open In Colab\"/></a>"
      ]
    },
    {
      "cell_type": "markdown",
      "source": [],
      "metadata": {
        "id": "kChmXo7bLgA-"
      }
    },
    {
      "cell_type": "markdown",
      "source": [
        "#Install Vertex AI SDK"
      ],
      "metadata": {
        "id": "56dTa95GAPJU"
      }
    },
    {
      "cell_type": "code",
      "source": [
        "pip install google-cloud-aiplatform[adk,agent_engines]"
      ],
      "metadata": {
        "colab": {
          "base_uri": "https://localhost:8080/"
        },
        "id": "LYlTwt0ZAZjr",
        "outputId": "50ac3858-4473-44c0-b3e0-7566d9c6df7a"
      },
      "execution_count": null,
      "outputs": [
        {
          "output_type": "stream",
          "name": "stdout",
          "text": [
            "Requirement already satisfied: google-cloud-aiplatform[adk,agent_engines] in /usr/local/lib/python3.11/dist-packages (1.95.1)\n",
            "Requirement already satisfied: google-api-core!=2.0.*,!=2.1.*,!=2.2.*,!=2.3.*,!=2.4.*,!=2.5.*,!=2.6.*,!=2.7.*,<3.0.0,>=1.34.1 in /usr/local/lib/python3.11/dist-packages (from google-api-core[grpc]!=2.0.*,!=2.1.*,!=2.2.*,!=2.3.*,!=2.4.*,!=2.5.*,!=2.6.*,!=2.7.*,<3.0.0,>=1.34.1->google-cloud-aiplatform[adk,agent_engines]) (2.25.0)\n",
            "Requirement already satisfied: google-auth<3.0.0,>=2.14.1 in /usr/local/lib/python3.11/dist-packages (from google-cloud-aiplatform[adk,agent_engines]) (2.38.0)\n",
            "Requirement already satisfied: proto-plus<2.0.0,>=1.22.3 in /usr/local/lib/python3.11/dist-packages (from google-cloud-aiplatform[adk,agent_engines]) (1.26.1)\n",
            "Requirement already satisfied: protobuf!=4.21.0,!=4.21.1,!=4.21.2,!=4.21.3,!=4.21.4,!=4.21.5,<7.0.0,>=3.20.2 in /usr/local/lib/python3.11/dist-packages (from google-cloud-aiplatform[adk,agent_engines]) (5.29.5)\n",
            "Requirement already satisfied: packaging>=14.3 in /usr/local/lib/python3.11/dist-packages (from google-cloud-aiplatform[adk,agent_engines]) (24.2)\n",
            "Requirement already satisfied: google-cloud-storage<3.0.0,>=1.32.0 in /usr/local/lib/python3.11/dist-packages (from google-cloud-aiplatform[adk,agent_engines]) (2.19.0)\n",
            "Requirement already satisfied: google-cloud-bigquery!=3.20.0,<4.0.0,>=1.15.0 in /usr/local/lib/python3.11/dist-packages (from google-cloud-aiplatform[adk,agent_engines]) (3.34.0)\n",
            "Requirement already satisfied: google-cloud-resource-manager<3.0.0,>=1.3.3 in /usr/local/lib/python3.11/dist-packages (from google-cloud-aiplatform[adk,agent_engines]) (1.14.2)\n",
            "Requirement already satisfied: shapely<3.0.0 in /usr/local/lib/python3.11/dist-packages (from google-cloud-aiplatform[adk,agent_engines]) (2.1.1)\n",
            "Requirement already satisfied: google-genai<2.0.0,>=1.0.0 in /usr/local/lib/python3.11/dist-packages (from google-cloud-aiplatform[adk,agent_engines]) (1.18.0)\n",
            "Requirement already satisfied: pydantic<3 in /usr/local/lib/python3.11/dist-packages (from google-cloud-aiplatform[adk,agent_engines]) (2.11.5)\n",
            "Requirement already satisfied: typing-extensions in /usr/local/lib/python3.11/dist-packages (from google-cloud-aiplatform[adk,agent_engines]) (4.14.0)\n",
            "Requirement already satisfied: docstring-parser<1 in /usr/local/lib/python3.11/dist-packages (from google-cloud-aiplatform[adk,agent_engines]) (0.16)\n",
            "Requirement already satisfied: google-adk<2.0.0,>=1.0.0 in /usr/local/lib/python3.11/dist-packages (from google-cloud-aiplatform[adk,agent_engines]) (1.3.0)\n",
            "Requirement already satisfied: cloudpickle<4.0,>=3.0 in /usr/local/lib/python3.11/dist-packages (from google-cloud-aiplatform[adk,agent_engines]) (3.1.1)\n",
            "Requirement already satisfied: google-cloud-trace<2 in /usr/local/lib/python3.11/dist-packages (from google-cloud-aiplatform[adk,agent_engines]) (1.16.2)\n",
            "Requirement already satisfied: google-cloud-logging<4 in /usr/local/lib/python3.11/dist-packages (from google-cloud-aiplatform[adk,agent_engines]) (3.12.1)\n",
            "Requirement already satisfied: opentelemetry-sdk<2 in /usr/local/lib/python3.11/dist-packages (from google-cloud-aiplatform[adk,agent_engines]) (1.34.1)\n",
            "Requirement already satisfied: opentelemetry-exporter-gcp-trace<2 in /usr/local/lib/python3.11/dist-packages (from google-cloud-aiplatform[adk,agent_engines]) (1.9.0)\n",
            "Requirement already satisfied: authlib>=1.5.1 in /usr/local/lib/python3.11/dist-packages (from google-adk<2.0.0,>=1.0.0->google-cloud-aiplatform[adk,agent_engines]) (1.6.0)\n",
            "Requirement already satisfied: click>=8.1.8 in /usr/local/lib/python3.11/dist-packages (from google-adk<2.0.0,>=1.0.0->google-cloud-aiplatform[adk,agent_engines]) (8.2.1)\n",
            "Requirement already satisfied: fastapi>=0.115.0 in /usr/local/lib/python3.11/dist-packages (from google-adk<2.0.0,>=1.0.0->google-cloud-aiplatform[adk,agent_engines]) (0.115.12)\n",
            "Requirement already satisfied: google-api-python-client>=2.157.0 in /usr/local/lib/python3.11/dist-packages (from google-adk<2.0.0,>=1.0.0->google-cloud-aiplatform[adk,agent_engines]) (2.171.0)\n",
            "Requirement already satisfied: google-cloud-secret-manager>=2.22.0 in /usr/local/lib/python3.11/dist-packages (from google-adk<2.0.0,>=1.0.0->google-cloud-aiplatform[adk,agent_engines]) (2.24.0)\n",
            "Requirement already satisfied: google-cloud-speech>=2.30.0 in /usr/local/lib/python3.11/dist-packages (from google-adk<2.0.0,>=1.0.0->google-cloud-aiplatform[adk,agent_engines]) (2.33.0)\n",
            "Requirement already satisfied: graphviz>=0.20.2 in /usr/local/lib/python3.11/dist-packages (from google-adk<2.0.0,>=1.0.0->google-cloud-aiplatform[adk,agent_engines]) (0.20.3)\n",
            "Requirement already satisfied: mcp>=1.8.0 in /usr/local/lib/python3.11/dist-packages (from google-adk<2.0.0,>=1.0.0->google-cloud-aiplatform[adk,agent_engines]) (1.9.4)\n",
            "Requirement already satisfied: opentelemetry-api>=1.31.0 in /usr/local/lib/python3.11/dist-packages (from google-adk<2.0.0,>=1.0.0->google-cloud-aiplatform[adk,agent_engines]) (1.34.1)\n",
            "Requirement already satisfied: python-dotenv>=1.0.0 in /usr/local/lib/python3.11/dist-packages (from google-adk<2.0.0,>=1.0.0->google-cloud-aiplatform[adk,agent_engines]) (1.1.0)\n",
            "Requirement already satisfied: PyYAML>=6.0.2 in /usr/local/lib/python3.11/dist-packages (from google-adk<2.0.0,>=1.0.0->google-cloud-aiplatform[adk,agent_engines]) (6.0.2)\n",
            "Requirement already satisfied: sqlalchemy>=2.0 in /usr/local/lib/python3.11/dist-packages (from google-adk<2.0.0,>=1.0.0->google-cloud-aiplatform[adk,agent_engines]) (2.0.41)\n",
            "Requirement already satisfied: tzlocal>=5.3 in /usr/local/lib/python3.11/dist-packages (from google-adk<2.0.0,>=1.0.0->google-cloud-aiplatform[adk,agent_engines]) (5.3.1)\n",
            "Requirement already satisfied: uvicorn>=0.34.0 in /usr/local/lib/python3.11/dist-packages (from google-adk<2.0.0,>=1.0.0->google-cloud-aiplatform[adk,agent_engines]) (0.34.3)\n",
            "Requirement already satisfied: googleapis-common-protos<2.0.0,>=1.56.2 in /usr/local/lib/python3.11/dist-packages (from google-api-core!=2.0.*,!=2.1.*,!=2.2.*,!=2.3.*,!=2.4.*,!=2.5.*,!=2.6.*,!=2.7.*,<3.0.0,>=1.34.1->google-api-core[grpc]!=2.0.*,!=2.1.*,!=2.2.*,!=2.3.*,!=2.4.*,!=2.5.*,!=2.6.*,!=2.7.*,<3.0.0,>=1.34.1->google-cloud-aiplatform[adk,agent_engines]) (1.70.0)\n",
            "Requirement already satisfied: requests<3.0.0,>=2.18.0 in /usr/local/lib/python3.11/dist-packages (from google-api-core!=2.0.*,!=2.1.*,!=2.2.*,!=2.3.*,!=2.4.*,!=2.5.*,!=2.6.*,!=2.7.*,<3.0.0,>=1.34.1->google-api-core[grpc]!=2.0.*,!=2.1.*,!=2.2.*,!=2.3.*,!=2.4.*,!=2.5.*,!=2.6.*,!=2.7.*,<3.0.0,>=1.34.1->google-cloud-aiplatform[adk,agent_engines]) (2.32.3)\n",
            "Requirement already satisfied: grpcio<2.0.0,>=1.33.2 in /usr/local/lib/python3.11/dist-packages (from google-api-core[grpc]!=2.0.*,!=2.1.*,!=2.2.*,!=2.3.*,!=2.4.*,!=2.5.*,!=2.6.*,!=2.7.*,<3.0.0,>=1.34.1->google-cloud-aiplatform[adk,agent_engines]) (1.72.1)\n",
            "Requirement already satisfied: grpcio-status<2.0.0,>=1.33.2 in /usr/local/lib/python3.11/dist-packages (from google-api-core[grpc]!=2.0.*,!=2.1.*,!=2.2.*,!=2.3.*,!=2.4.*,!=2.5.*,!=2.6.*,!=2.7.*,<3.0.0,>=1.34.1->google-cloud-aiplatform[adk,agent_engines]) (1.71.0)\n",
            "Requirement already satisfied: cachetools<6.0,>=2.0.0 in /usr/local/lib/python3.11/dist-packages (from google-auth<3.0.0,>=2.14.1->google-cloud-aiplatform[adk,agent_engines]) (5.5.2)\n",
            "Requirement already satisfied: pyasn1-modules>=0.2.1 in /usr/local/lib/python3.11/dist-packages (from google-auth<3.0.0,>=2.14.1->google-cloud-aiplatform[adk,agent_engines]) (0.4.2)\n",
            "Requirement already satisfied: rsa<5,>=3.1.4 in /usr/local/lib/python3.11/dist-packages (from google-auth<3.0.0,>=2.14.1->google-cloud-aiplatform[adk,agent_engines]) (4.9.1)\n",
            "Requirement already satisfied: google-cloud-core<3.0.0,>=2.4.1 in /usr/local/lib/python3.11/dist-packages (from google-cloud-bigquery!=3.20.0,<4.0.0,>=1.15.0->google-cloud-aiplatform[adk,agent_engines]) (2.4.3)\n",
            "Requirement already satisfied: google-resumable-media<3.0.0,>=2.0.0 in /usr/local/lib/python3.11/dist-packages (from google-cloud-bigquery!=3.20.0,<4.0.0,>=1.15.0->google-cloud-aiplatform[adk,agent_engines]) (2.7.2)\n",
            "Requirement already satisfied: python-dateutil<3.0.0,>=2.8.2 in /usr/local/lib/python3.11/dist-packages (from google-cloud-bigquery!=3.20.0,<4.0.0,>=1.15.0->google-cloud-aiplatform[adk,agent_engines]) (2.9.0.post0)\n",
            "Requirement already satisfied: google-cloud-appengine-logging<2.0.0,>=0.1.3 in /usr/local/lib/python3.11/dist-packages (from google-cloud-logging<4->google-cloud-aiplatform[adk,agent_engines]) (1.6.2)\n",
            "Requirement already satisfied: google-cloud-audit-log<1.0.0,>=0.3.1 in /usr/local/lib/python3.11/dist-packages (from google-cloud-logging<4->google-cloud-aiplatform[adk,agent_engines]) (0.3.2)\n",
            "Requirement already satisfied: grpc-google-iam-v1<1.0.0,>=0.12.4 in /usr/local/lib/python3.11/dist-packages (from google-cloud-logging<4->google-cloud-aiplatform[adk,agent_engines]) (0.14.2)\n",
            "Requirement already satisfied: google-crc32c<2.0dev,>=1.0 in /usr/local/lib/python3.11/dist-packages (from google-cloud-storage<3.0.0,>=1.32.0->google-cloud-aiplatform[adk,agent_engines]) (1.7.1)\n",
            "Requirement already satisfied: anyio<5.0.0,>=4.8.0 in /usr/local/lib/python3.11/dist-packages (from google-genai<2.0.0,>=1.0.0->google-cloud-aiplatform[adk,agent_engines]) (4.9.0)\n",
            "Requirement already satisfied: httpx<1.0.0,>=0.28.1 in /usr/local/lib/python3.11/dist-packages (from google-genai<2.0.0,>=1.0.0->google-cloud-aiplatform[adk,agent_engines]) (0.28.1)\n",
            "Requirement already satisfied: websockets<15.1.0,>=13.0.0 in /usr/local/lib/python3.11/dist-packages (from google-genai<2.0.0,>=1.0.0->google-cloud-aiplatform[adk,agent_engines]) (15.0.1)\n",
            "Requirement already satisfied: opentelemetry-resourcedetector-gcp==1.*,>=1.5.0dev0 in /usr/local/lib/python3.11/dist-packages (from opentelemetry-exporter-gcp-trace<2->google-cloud-aiplatform[adk,agent_engines]) (1.9.0a0)\n",
            "Requirement already satisfied: opentelemetry-semantic-conventions==0.55b1 in /usr/local/lib/python3.11/dist-packages (from opentelemetry-sdk<2->google-cloud-aiplatform[adk,agent_engines]) (0.55b1)\n",
            "Requirement already satisfied: importlib-metadata<8.8.0,>=6.0 in /usr/local/lib/python3.11/dist-packages (from opentelemetry-api>=1.31.0->google-adk<2.0.0,>=1.0.0->google-cloud-aiplatform[adk,agent_engines]) (8.7.0)\n",
            "Requirement already satisfied: annotated-types>=0.6.0 in /usr/local/lib/python3.11/dist-packages (from pydantic<3->google-cloud-aiplatform[adk,agent_engines]) (0.7.0)\n",
            "Requirement already satisfied: pydantic-core==2.33.2 in /usr/local/lib/python3.11/dist-packages (from pydantic<3->google-cloud-aiplatform[adk,agent_engines]) (2.33.2)\n",
            "Requirement already satisfied: typing-inspection>=0.4.0 in /usr/local/lib/python3.11/dist-packages (from pydantic<3->google-cloud-aiplatform[adk,agent_engines]) (0.4.1)\n",
            "Requirement already satisfied: numpy>=1.21 in /usr/local/lib/python3.11/dist-packages (from shapely<3.0.0->google-cloud-aiplatform[adk,agent_engines]) (2.0.2)\n",
            "Requirement already satisfied: idna>=2.8 in /usr/local/lib/python3.11/dist-packages (from anyio<5.0.0,>=4.8.0->google-genai<2.0.0,>=1.0.0->google-cloud-aiplatform[adk,agent_engines]) (3.10)\n",
            "Requirement already satisfied: sniffio>=1.1 in /usr/local/lib/python3.11/dist-packages (from anyio<5.0.0,>=4.8.0->google-genai<2.0.0,>=1.0.0->google-cloud-aiplatform[adk,agent_engines]) (1.3.1)\n",
            "Requirement already satisfied: cryptography in /usr/local/lib/python3.11/dist-packages (from authlib>=1.5.1->google-adk<2.0.0,>=1.0.0->google-cloud-aiplatform[adk,agent_engines]) (43.0.3)\n",
            "Requirement already satisfied: starlette<0.47.0,>=0.40.0 in /usr/local/lib/python3.11/dist-packages (from fastapi>=0.115.0->google-adk<2.0.0,>=1.0.0->google-cloud-aiplatform[adk,agent_engines]) (0.46.2)\n",
            "Requirement already satisfied: httplib2<1.0.0,>=0.19.0 in /usr/local/lib/python3.11/dist-packages (from google-api-python-client>=2.157.0->google-adk<2.0.0,>=1.0.0->google-cloud-aiplatform[adk,agent_engines]) (0.22.0)\n",
            "Requirement already satisfied: google-auth-httplib2<1.0.0,>=0.2.0 in /usr/local/lib/python3.11/dist-packages (from google-api-python-client>=2.157.0->google-adk<2.0.0,>=1.0.0->google-cloud-aiplatform[adk,agent_engines]) (0.2.0)\n",
            "Requirement already satisfied: uritemplate<5,>=3.0.1 in /usr/local/lib/python3.11/dist-packages (from google-api-python-client>=2.157.0->google-adk<2.0.0,>=1.0.0->google-cloud-aiplatform[adk,agent_engines]) (4.2.0)\n",
            "Requirement already satisfied: certifi in /usr/local/lib/python3.11/dist-packages (from httpx<1.0.0,>=0.28.1->google-genai<2.0.0,>=1.0.0->google-cloud-aiplatform[adk,agent_engines]) (2025.4.26)\n",
            "Requirement already satisfied: httpcore==1.* in /usr/local/lib/python3.11/dist-packages (from httpx<1.0.0,>=0.28.1->google-genai<2.0.0,>=1.0.0->google-cloud-aiplatform[adk,agent_engines]) (1.0.9)\n",
            "Requirement already satisfied: h11>=0.16 in /usr/local/lib/python3.11/dist-packages (from httpcore==1.*->httpx<1.0.0,>=0.28.1->google-genai<2.0.0,>=1.0.0->google-cloud-aiplatform[adk,agent_engines]) (0.16.0)\n",
            "Requirement already satisfied: httpx-sse>=0.4 in /usr/local/lib/python3.11/dist-packages (from mcp>=1.8.0->google-adk<2.0.0,>=1.0.0->google-cloud-aiplatform[adk,agent_engines]) (0.4.0)\n",
            "Requirement already satisfied: pydantic-settings>=2.5.2 in /usr/local/lib/python3.11/dist-packages (from mcp>=1.8.0->google-adk<2.0.0,>=1.0.0->google-cloud-aiplatform[adk,agent_engines]) (2.9.1)\n",
            "Requirement already satisfied: python-multipart>=0.0.9 in /usr/local/lib/python3.11/dist-packages (from mcp>=1.8.0->google-adk<2.0.0,>=1.0.0->google-cloud-aiplatform[adk,agent_engines]) (0.0.20)\n",
            "Requirement already satisfied: sse-starlette>=1.6.1 in /usr/local/lib/python3.11/dist-packages (from mcp>=1.8.0->google-adk<2.0.0,>=1.0.0->google-cloud-aiplatform[adk,agent_engines]) (2.3.6)\n",
            "Requirement already satisfied: pyasn1<0.7.0,>=0.6.1 in /usr/local/lib/python3.11/dist-packages (from pyasn1-modules>=0.2.1->google-auth<3.0.0,>=2.14.1->google-cloud-aiplatform[adk,agent_engines]) (0.6.1)\n",
            "Requirement already satisfied: six>=1.5 in /usr/local/lib/python3.11/dist-packages (from python-dateutil<3.0.0,>=2.8.2->google-cloud-bigquery!=3.20.0,<4.0.0,>=1.15.0->google-cloud-aiplatform[adk,agent_engines]) (1.17.0)\n",
            "Requirement already satisfied: charset-normalizer<4,>=2 in /usr/local/lib/python3.11/dist-packages (from requests<3.0.0,>=2.18.0->google-api-core!=2.0.*,!=2.1.*,!=2.2.*,!=2.3.*,!=2.4.*,!=2.5.*,!=2.6.*,!=2.7.*,<3.0.0,>=1.34.1->google-api-core[grpc]!=2.0.*,!=2.1.*,!=2.2.*,!=2.3.*,!=2.4.*,!=2.5.*,!=2.6.*,!=2.7.*,<3.0.0,>=1.34.1->google-cloud-aiplatform[adk,agent_engines]) (3.4.2)\n",
            "Requirement already satisfied: urllib3<3,>=1.21.1 in /usr/local/lib/python3.11/dist-packages (from requests<3.0.0,>=2.18.0->google-api-core!=2.0.*,!=2.1.*,!=2.2.*,!=2.3.*,!=2.4.*,!=2.5.*,!=2.6.*,!=2.7.*,<3.0.0,>=1.34.1->google-api-core[grpc]!=2.0.*,!=2.1.*,!=2.2.*,!=2.3.*,!=2.4.*,!=2.5.*,!=2.6.*,!=2.7.*,<3.0.0,>=1.34.1->google-cloud-aiplatform[adk,agent_engines]) (2.4.0)\n",
            "Requirement already satisfied: greenlet>=1 in /usr/local/lib/python3.11/dist-packages (from sqlalchemy>=2.0->google-adk<2.0.0,>=1.0.0->google-cloud-aiplatform[adk,agent_engines]) (3.2.2)\n",
            "Requirement already satisfied: pyparsing!=3.0.0,!=3.0.1,!=3.0.2,!=3.0.3,<4,>=2.4.2 in /usr/local/lib/python3.11/dist-packages (from httplib2<1.0.0,>=0.19.0->google-api-python-client>=2.157.0->google-adk<2.0.0,>=1.0.0->google-cloud-aiplatform[adk,agent_engines]) (3.2.3)\n",
            "Requirement already satisfied: zipp>=3.20 in /usr/local/lib/python3.11/dist-packages (from importlib-metadata<8.8.0,>=6.0->opentelemetry-api>=1.31.0->google-adk<2.0.0,>=1.0.0->google-cloud-aiplatform[adk,agent_engines]) (3.22.0)\n",
            "Requirement already satisfied: cffi>=1.12 in /usr/local/lib/python3.11/dist-packages (from cryptography->authlib>=1.5.1->google-adk<2.0.0,>=1.0.0->google-cloud-aiplatform[adk,agent_engines]) (1.17.1)\n",
            "Requirement already satisfied: pycparser in /usr/local/lib/python3.11/dist-packages (from cffi>=1.12->cryptography->authlib>=1.5.1->google-adk<2.0.0,>=1.0.0->google-cloud-aiplatform[adk,agent_engines]) (2.22)\n"
          ]
        }
      ]
    },
    {
      "cell_type": "markdown",
      "source": [
        "# Authenticate (Colab only)"
      ],
      "metadata": {
        "id": "CrJEpul1Ad2Y"
      }
    },
    {
      "cell_type": "code",
      "source": [
        "from google.colab import auth\n",
        "auth.authenticate_user()"
      ],
      "metadata": {
        "id": "lied47EMAjmm"
      },
      "execution_count": null,
      "outputs": []
    },
    {
      "cell_type": "markdown",
      "source": [
        "# Initialize Vertex AI SDK"
      ],
      "metadata": {
        "id": "Tzi-La92AprM"
      }
    },
    {
      "cell_type": "code",
      "source": [
        "import vertexai\n",
        "\n",
        "PROJECT_ID = \"your-project-id\"\n",
        "LOCATION = \"us-central1\"\n",
        "STAGING_BUCKET = \"gs://your-google-cloud-storage-bucket\"\n",
        "\n",
        "vertexai.init(\n",
        "    project= \"deploy-agent-on-agent-engine\",\n",
        "    location= \"us-central1\",\n",
        "    staging_bucket= \"gs://deploy_agent_on_agent_engine\",\n",
        ")"
      ],
      "metadata": {
        "id": "4VtqzYcJAu9s"
      },
      "execution_count": null,
      "outputs": []
    },
    {
      "cell_type": "markdown",
      "source": [
        "# Define the Agent using ADK"
      ],
      "metadata": {
        "id": "ZevhdsrVAyhD"
      }
    },
    {
      "cell_type": "code",
      "source": [
        "from google.adk.agents import Agent\n",
        "from google.adk.tools import google_search\n",
        "\n",
        "#Define the agent using ADK\n",
        "root_agent = Agent(\n",
        "    name=\"basic_search_agent\", #name of your agent\n",
        "    model=\"gemini-2.5-flash-preview-04-17\", # specify the model version\n",
        "    description=(\n",
        "        \"Agent to answer questions using google search.\" # Brief description of the agent\n",
        "    ),\n",
        "    instruction=(\n",
        "        \"You are a helpful agent who can answer questions using internet. Just ask me anything\"\n",
        "    ),\n",
        "    tools=[google_search], # use the Pre-built Google search tool\n",
        "    output_key= \"google_search\" # key where search result will be stored\n",
        ")"
      ],
      "metadata": {
        "id": "Kk50RwIOA3Et"
      },
      "execution_count": null,
      "outputs": []
    },
    {
      "cell_type": "markdown",
      "source": [
        "# Prepare Agent for Deployment AdkApp"
      ],
      "metadata": {
        "id": "pJA7yHEwA6mf"
      }
    },
    {
      "cell_type": "code",
      "source": [
        "from vertexai.preview import reasoning_engines\n",
        "\n",
        "app = reasoning_engines.AdkApp(\n",
        "    agent=root_agent,\n",
        "    enable_tracing=True,\n",
        ")"
      ],
      "metadata": {
        "id": "mWtImaf8A_b4"
      },
      "execution_count": null,
      "outputs": []
    },
    {
      "cell_type": "markdown",
      "source": [
        "# Create a Local Test Session"
      ],
      "metadata": {
        "id": "3N6OIWuFBCla"
      }
    },
    {
      "cell_type": "code",
      "source": [
        "session = app.create_session(user_id=\"u_123\")  # Replace with your desired user ID\n",
        "session"
      ],
      "metadata": {
        "colab": {
          "base_uri": "https://localhost:8080/"
        },
        "id": "h7dKHH8xBGvj",
        "outputId": "decb3319-4288-42e5-f5ff-d67dfd477952"
      },
      "execution_count": null,
      "outputs": [
        {
          "output_type": "execute_result",
          "data": {
            "text/plain": [
              "Session(id='e475c811-8d4e-4e5c-9161-a7148949f6c6', app_name='default-app-name', user_id='u_123', state={}, events=[], last_update_time=1749966679.013655)"
            ]
          },
          "metadata": {},
          "execution_count": 6
        }
      ]
    },
    {
      "cell_type": "markdown",
      "source": [
        "# List Local Test Sessions"
      ],
      "metadata": {
        "id": "nbQyl5HrBKSb"
      }
    },
    {
      "cell_type": "code",
      "source": [
        "active_sessions= app.list_sessions(user_id=\"u_123\")  # Replace with the same user ID used earlier\n",
        "active_sessions"
      ],
      "metadata": {
        "colab": {
          "base_uri": "https://localhost:8080/"
        },
        "id": "Lu3NVQJCBON-",
        "outputId": "68bc84cd-92f8-4d69-ebbe-04e263df3963"
      },
      "execution_count": null,
      "outputs": [
        {
          "output_type": "execute_result",
          "data": {
            "text/plain": [
              "ListSessionsResponse(sessions=[Session(id='e475c811-8d4e-4e5c-9161-a7148949f6c6', app_name='default-app-name', user_id='u_123', state={}, events=[], last_update_time=1749966679.013655)])"
            ]
          },
          "metadata": {},
          "execution_count": 7
        }
      ]
    },
    {
      "cell_type": "markdown",
      "source": [
        "# Get a Specific Local Test Session"
      ],
      "metadata": {
        "id": "1pzh7s-uBRQw"
      }
    },
    {
      "cell_type": "code",
      "source": [
        "specific_session = app.get_session(user_id=\"u_123\", session_id=session.id)\n",
        "specific_session"
      ],
      "metadata": {
        "colab": {
          "base_uri": "https://localhost:8080/"
        },
        "id": "tYXa2T5lBVDM",
        "outputId": "581dc18a-c7c1-4ca1-dffd-bb58538bf23f"
      },
      "execution_count": null,
      "outputs": [
        {
          "output_type": "execute_result",
          "data": {
            "text/plain": [
              "Session(id='e475c811-8d4e-4e5c-9161-a7148949f6c6', app_name='default-app-name', user_id='u_123', state={}, events=[], last_update_time=1749966679.013655)"
            ]
          },
          "metadata": {},
          "execution_count": 8
        }
      ]
    },
    {
      "cell_type": "code",
      "source": [
        "pip install pydantic cloudpickle"
      ],
      "metadata": {
        "colab": {
          "base_uri": "https://localhost:8080/"
        },
        "id": "xZa2vNrpIoYi",
        "outputId": "0945e6bc-47ae-449e-fcaa-f74ce7f9ad26"
      },
      "execution_count": null,
      "outputs": [
        {
          "output_type": "stream",
          "name": "stdout",
          "text": [
            "Requirement already satisfied: pydantic in /usr/local/lib/python3.11/dist-packages (2.11.5)\n",
            "Requirement already satisfied: cloudpickle in /usr/local/lib/python3.11/dist-packages (3.1.1)\n",
            "Requirement already satisfied: annotated-types>=0.6.0 in /usr/local/lib/python3.11/dist-packages (from pydantic) (0.7.0)\n",
            "Requirement already satisfied: pydantic-core==2.33.2 in /usr/local/lib/python3.11/dist-packages (from pydantic) (2.33.2)\n",
            "Requirement already satisfied: typing-extensions>=4.12.2 in /usr/local/lib/python3.11/dist-packages (from pydantic) (4.14.0)\n",
            "Requirement already satisfied: typing-inspection>=0.4.0 in /usr/local/lib/python3.11/dist-packages (from pydantic) (0.4.1)\n"
          ]
        }
      ]
    },
    {
      "cell_type": "code",
      "source": [
        "pip show pydantic cloudpickle"
      ],
      "metadata": {
        "colab": {
          "base_uri": "https://localhost:8080/"
        },
        "id": "iumB40P8IsrA",
        "outputId": "12dcf720-d171-445c-8142-25573c59c581"
      },
      "execution_count": null,
      "outputs": [
        {
          "output_type": "stream",
          "name": "stdout",
          "text": [
            "Name: pydantic\n",
            "Version: 2.11.5\n",
            "Summary: Data validation using Python type hints\n",
            "Home-page: https://github.com/pydantic/pydantic\n",
            "Author: \n",
            "Author-email: Samuel Colvin <s@muelcolvin.com>, Eric Jolibois <em.jolibois@gmail.com>, Hasan Ramezani <hasan.r67@gmail.com>, Adrian Garcia Badaracco <1755071+adriangb@users.noreply.github.com>, Terrence Dorsey <terry@pydantic.dev>, David Montague <david@pydantic.dev>, Serge Matveenko <lig@countzero.co>, Marcelo Trylesinski <marcelotryle@gmail.com>, Sydney Runkle <sydneymarierunkle@gmail.com>, David Hewitt <mail@davidhewitt.io>, Alex Hall <alex.mojaki@gmail.com>, Victorien Plot <contact@vctrn.dev>\n",
            "License: \n",
            "Location: /usr/local/lib/python3.11/dist-packages\n",
            "Requires: annotated-types, pydantic-core, typing-extensions, typing-inspection\n",
            "Required-by: albumentations, confection, fastapi, google-adk, google-cloud-aiplatform, google-genai, google-generativeai, gradio, langchain, langchain-core, langsmith, mcp, openai, pydantic-settings, spacy, thinc, wandb, weasel\n",
            "---\n",
            "Name: cloudpickle\n",
            "Version: 3.1.1\n",
            "Summary: Pickler class to extend the standard pickle.Pickler functionality\n",
            "Home-page: https://github.com/cloudpipe/cloudpickle\n",
            "Author: The cloudpickle developer team\n",
            "Author-email: cloudpipe@googlegroups.com\n",
            "License: BSD-3-Clause\n",
            "Location: /usr/local/lib/python3.11/dist-packages\n",
            "Requires: \n",
            "Required-by: bigframes, dask, distributed, gym, gymnasium, hyperopt, pymc, shap, tensorflow-probability, tsfresh\n"
          ]
        }
      ]
    },
    {
      "cell_type": "markdown",
      "source": [
        "# Send Query to Local Agent"
      ],
      "metadata": {
        "id": "Vf3RRMreBYSh"
      }
    },
    {
      "cell_type": "code",
      "source": [
        "for event in app.stream_query(\n",
        "    user_id=\"u_123\",\n",
        "    session_id=session.id,\n",
        "    message=\"whats the weather in new york\",\n",
        "):\n",
        " print(event)"
      ],
      "metadata": {
        "colab": {
          "base_uri": "https://localhost:8080/"
        },
        "id": "MQbVRkWFBcQr",
        "outputId": "658801fb-ce27-400a-d233-07a9e6cff412"
      },
      "execution_count": null,
      "outputs": [
        {
          "output_type": "stream",
          "name": "stderr",
          "text": [
            "Exception in thread Thread-11 (_asyncio_thread_main):\n",
            "Traceback (most recent call last):\n",
            "  File \"/usr/lib/python3.11/threading.py\", line 1045, in _bootstrap_inner\n",
            "    self.run()\n",
            "  File \"/usr/lib/python3.11/threading.py\", line 982, in run\n",
            "    self._target(*self._args, **self._kwargs)\n",
            "  File \"/usr/local/lib/python3.11/dist-packages/google/adk/runners.py\", line 139, in _asyncio_thread_main\n",
            "    asyncio.run(_invoke_run_async())\n",
            "  File \"/usr/lib/python3.11/asyncio/runners.py\", line 190, in run\n",
            "    return runner.run(main)\n",
            "           ^^^^^^^^^^^^^^^^\n",
            "  File \"/usr/lib/python3.11/asyncio/runners.py\", line 118, in run\n",
            "    return self._loop.run_until_complete(task)\n",
            "           ^^^^^^^^^^^^^^^^^^^^^^^^^^^^^^^^^^^\n",
            "  File \"/usr/lib/python3.11/asyncio/base_events.py\", line 654, in run_until_complete\n",
            "    return future.result()\n",
            "           ^^^^^^^^^^^^^^^\n",
            "  File \"/usr/local/lib/python3.11/dist-packages/google/adk/runners.py\", line 127, in _invoke_run_async\n",
            "    async for event in self.run_async(\n",
            "  File \"/usr/local/lib/python3.11/dist-packages/google/adk/runners.py\", line 198, in run_async\n",
            "    async for event in invocation_context.agent.run_async(invocation_context):\n",
            "  File \"/usr/local/lib/python3.11/dist-packages/google/adk/agents/base_agent.py\", line 147, in run_async\n",
            "    async for event in self._run_async_impl(ctx):\n",
            "  File \"/usr/local/lib/python3.11/dist-packages/google/adk/agents/llm_agent.py\", line 273, in _run_async_impl\n",
            "    async for event in self._llm_flow.run_async(ctx):\n",
            "  File \"/usr/local/lib/python3.11/dist-packages/google/adk/flows/llm_flows/base_llm_flow.py\", line 282, in run_async\n",
            "    async for event in self._run_one_step_async(invocation_context):\n",
            "  File \"/usr/local/lib/python3.11/dist-packages/google/adk/flows/llm_flows/base_llm_flow.py\", line 314, in _run_one_step_async\n",
            "    async for llm_response in self._call_llm_async(\n",
            "  File \"/usr/local/lib/python3.11/dist-packages/google/adk/flows/llm_flows/base_llm_flow.py\", line 539, in _call_llm_async\n",
            "    async for llm_response in llm.generate_content_async(\n",
            "  File \"/usr/local/lib/python3.11/dist-packages/google/adk/models/google_llm.py\", line 163, in generate_content_async\n",
            "    response = await self.api_client.aio.models.generate_content(\n",
            "               ^^^^^^^^^^^^^^^^^^^^^^^^^^^^^^^^^^^^^^^^^^^^^^^^^^\n",
            "  File \"/usr/local/lib/python3.11/dist-packages/google/genai/models.py\", line 7453, in generate_content\n",
            "    response = await self._generate_content(\n",
            "               ^^^^^^^^^^^^^^^^^^^^^^^^^^^^^\n",
            "  File \"/usr/local/lib/python3.11/dist-packages/google/genai/models.py\", line 6447, in _generate_content\n",
            "    response_dict = await self._api_client.async_request(\n",
            "                    ^^^^^^^^^^^^^^^^^^^^^^^^^^^^^^^^^^^^^\n",
            "  File \"/usr/local/lib/python3.11/dist-packages/google/genai/_api_client.py\", line 799, in async_request\n",
            "    result = await self._async_request(http_request=http_request, stream=False)\n",
            "             ^^^^^^^^^^^^^^^^^^^^^^^^^^^^^^^^^^^^^^^^^^^^^^^^^^^^^^^^^^^^^^^^^^\n",
            "  File \"/usr/local/lib/python3.11/dist-packages/google/genai/_api_client.py\", line 743, in _async_request\n",
            "    await errors.APIError.raise_for_async_response(response)\n",
            "  File \"/usr/local/lib/python3.11/dist-packages/google/genai/errors.py\", line 129, in raise_for_async_response\n",
            "    raise ClientError(status_code, response_json, response)\n",
            "google.genai.errors.ClientError: 403 PERMISSION_DENIED. {'error': {'code': 403, 'message': 'Vertex AI API has not been used in project deploy-agent-on-agent-engine before or it is disabled. Enable it by visiting https://console.developers.google.com/apis/api/aiplatform.googleapis.com/overview?project=deploy-agent-on-agent-engine then retry. If you enabled this API recently, wait a few minutes for the action to propagate to our systems and retry.', 'status': 'PERMISSION_DENIED', 'details': [{'@type': 'type.googleapis.com/google.rpc.ErrorInfo', 'reason': 'SERVICE_DISABLED', 'domain': 'googleapis.com', 'metadata': {'consumer': 'projects/deploy-agent-on-agent-engine', 'serviceTitle': 'Vertex AI API', 'activationUrl': 'https://console.developers.google.com/apis/api/aiplatform.googleapis.com/overview?project=deploy-agent-on-agent-engine', 'service': 'aiplatform.googleapis.com', 'containerInfo': 'deploy-agent-on-agent-engine'}}, {'@type': 'type.googleapis.com/google.rpc.LocalizedMessage', 'locale': 'en-US', 'message': 'Vertex AI API has not been used in project deploy-agent-on-agent-engine before or it is disabled. Enable it by visiting https://console.developers.google.com/apis/api/aiplatform.googleapis.com/overview?project=deploy-agent-on-agent-engine then retry. If you enabled this API recently, wait a few minutes for the action to propagate to our systems and retry.'}, {'@type': 'type.googleapis.com/google.rpc.Help', 'links': [{'description': 'Google developers console API activation', 'url': 'https://console.developers.google.com/apis/api/aiplatform.googleapis.com/overview?project=deploy-agent-on-agent-engine'}]}]}}\n"
          ]
        }
      ]
    },
    {
      "cell_type": "markdown",
      "source": [
        "# Deploy Agent to Agent Engine"
      ],
      "metadata": {
        "id": "uvpSFcF9BfcT"
      }
    },
    {
      "cell_type": "code",
      "source": [
        "from vertexai import agent_engines\n",
        "\n",
        "remote_app = agent_engines.create(\n",
        "    agent_engine=app,\n",
        "    requirements=[\n",
        "        \"google-cloud-aiplatform[adk,agent_engines]\"\n",
        "    ]\n",
        ")"
      ],
      "metadata": {
        "colab": {
          "base_uri": "https://localhost:8080/",
          "height": 1000
        },
        "id": "YKG32EpUBjR3",
        "outputId": "a0553199-10fe-4dbf-cf51-5cdc24570621"
      },
      "execution_count": null,
      "outputs": [
        {
          "output_type": "stream",
          "name": "stderr",
          "text": [
            "INFO:vertexai.agent_engines:Identified the following requirements: {'cloudpickle': '3.1.1', 'pydantic': '2.11.5', 'google-cloud-aiplatform': '1.95.1'}\n",
            "WARNING:vertexai.agent_engines:The following requirements are missing: {'cloudpickle', 'pydantic'}\n",
            "INFO:vertexai.agent_engines:The following requirements are appended: {'pydantic==2.11.5', 'cloudpickle==3.1.1'}\n",
            "INFO:vertexai.agent_engines:The final list of requirements: ['google-cloud-aiplatform[adk,agent_engines]', 'pydantic==2.11.5', 'cloudpickle==3.1.1']\n",
            "INFO:vertexai.agent_engines:Using bucket deploy_agent_on_agent_engine\n",
            "INFO:vertexai.agent_engines:Wrote to gs://deploy_agent_on_agent_engine/agent_engine/agent_engine.pkl\n",
            "INFO:vertexai.agent_engines:Writing to gs://deploy_agent_on_agent_engine/agent_engine/requirements.txt\n",
            "INFO:vertexai.agent_engines:Creating in-memory tarfile of extra_packages\n",
            "INFO:vertexai.agent_engines:Writing to gs://deploy_agent_on_agent_engine/agent_engine/dependencies.tar.gz\n"
          ]
        },
        {
          "output_type": "error",
          "ename": "PermissionDenied",
          "evalue": "403 Vertex AI API has not been used in project deploy-agent-on-agent-engine before or it is disabled. Enable it by visiting https://console.developers.google.com/apis/api/aiplatform.googleapis.com/overview?project=deploy-agent-on-agent-engine then retry. If you enabled this API recently, wait a few minutes for the action to propagate to our systems and retry. [reason: \"SERVICE_DISABLED\"\ndomain: \"googleapis.com\"\nmetadata {\n  key: \"service\"\n  value: \"aiplatform.googleapis.com\"\n}\nmetadata {\n  key: \"serviceTitle\"\n  value: \"Vertex AI API\"\n}\nmetadata {\n  key: \"containerInfo\"\n  value: \"deploy-agent-on-agent-engine\"\n}\nmetadata {\n  key: \"consumer\"\n  value: \"projects/deploy-agent-on-agent-engine\"\n}\nmetadata {\n  key: \"activationUrl\"\n  value: \"https://console.developers.google.com/apis/api/aiplatform.googleapis.com/overview?project=deploy-agent-on-agent-engine\"\n}\n, locale: \"en-US\"\nmessage: \"Vertex AI API has not been used in project deploy-agent-on-agent-engine before or it is disabled. Enable it by visiting https://console.developers.google.com/apis/api/aiplatform.googleapis.com/overview?project=deploy-agent-on-agent-engine then retry. If you enabled this API recently, wait a few minutes for the action to propagate to our systems and retry.\"\n, links {\n  description: \"Google developers console API activation\"\n  url: \"https://console.developers.google.com/apis/api/aiplatform.googleapis.com/overview?project=deploy-agent-on-agent-engine\"\n}\n]",
          "traceback": [
            "\u001b[0;31m---------------------------------------------------------------------------\u001b[0m",
            "\u001b[0;31m_InactiveRpcError\u001b[0m                         Traceback (most recent call last)",
            "\u001b[0;32m/usr/local/lib/python3.11/dist-packages/google/api_core/grpc_helpers.py\u001b[0m in \u001b[0;36merror_remapped_callable\u001b[0;34m(*args, **kwargs)\u001b[0m\n\u001b[1;32m     75\u001b[0m         \u001b[0;32mtry\u001b[0m\u001b[0;34m:\u001b[0m\u001b[0;34m\u001b[0m\u001b[0;34m\u001b[0m\u001b[0m\n\u001b[0;32m---> 76\u001b[0;31m             \u001b[0;32mreturn\u001b[0m \u001b[0mcallable_\u001b[0m\u001b[0;34m(\u001b[0m\u001b[0;34m*\u001b[0m\u001b[0margs\u001b[0m\u001b[0;34m,\u001b[0m \u001b[0;34m**\u001b[0m\u001b[0mkwargs\u001b[0m\u001b[0;34m)\u001b[0m\u001b[0;34m\u001b[0m\u001b[0;34m\u001b[0m\u001b[0m\n\u001b[0m\u001b[1;32m     77\u001b[0m         \u001b[0;32mexcept\u001b[0m \u001b[0mgrpc\u001b[0m\u001b[0;34m.\u001b[0m\u001b[0mRpcError\u001b[0m \u001b[0;32mas\u001b[0m \u001b[0mexc\u001b[0m\u001b[0;34m:\u001b[0m\u001b[0;34m\u001b[0m\u001b[0;34m\u001b[0m\u001b[0m\n",
            "\u001b[0;32m/usr/local/lib/python3.11/dist-packages/grpc/_interceptor.py\u001b[0m in \u001b[0;36m__call__\u001b[0;34m(self, request, timeout, metadata, credentials, wait_for_ready, compression)\u001b[0m\n\u001b[1;32m    276\u001b[0m     ) -> Any:\n\u001b[0;32m--> 277\u001b[0;31m         response, ignored_call = self._with_call(\n\u001b[0m\u001b[1;32m    278\u001b[0m             \u001b[0mrequest\u001b[0m\u001b[0;34m,\u001b[0m\u001b[0;34m\u001b[0m\u001b[0;34m\u001b[0m\u001b[0m\n",
            "\u001b[0;32m/usr/local/lib/python3.11/dist-packages/grpc/_interceptor.py\u001b[0m in \u001b[0;36m_with_call\u001b[0;34m(self, request, timeout, metadata, credentials, wait_for_ready, compression)\u001b[0m\n\u001b[1;32m    331\u001b[0m         )\n\u001b[0;32m--> 332\u001b[0;31m         \u001b[0;32mreturn\u001b[0m \u001b[0mcall\u001b[0m\u001b[0;34m.\u001b[0m\u001b[0mresult\u001b[0m\u001b[0;34m(\u001b[0m\u001b[0;34m)\u001b[0m\u001b[0;34m,\u001b[0m \u001b[0mcall\u001b[0m\u001b[0;34m\u001b[0m\u001b[0;34m\u001b[0m\u001b[0m\n\u001b[0m\u001b[1;32m    333\u001b[0m \u001b[0;34m\u001b[0m\u001b[0m\n",
            "\u001b[0;32m/usr/local/lib/python3.11/dist-packages/grpc/_channel.py\u001b[0m in \u001b[0;36mresult\u001b[0;34m(self, timeout)\u001b[0m\n\u001b[1;32m    439\u001b[0m         \u001b[0;34m\"\"\"See grpc.Future.result.\"\"\"\u001b[0m\u001b[0;34m\u001b[0m\u001b[0;34m\u001b[0m\u001b[0m\n\u001b[0;32m--> 440\u001b[0;31m         \u001b[0;32mraise\u001b[0m \u001b[0mself\u001b[0m\u001b[0;34m\u001b[0m\u001b[0;34m\u001b[0m\u001b[0m\n\u001b[0m\u001b[1;32m    441\u001b[0m \u001b[0;34m\u001b[0m\u001b[0m\n",
            "\u001b[0;32m/usr/local/lib/python3.11/dist-packages/grpc/_interceptor.py\u001b[0m in \u001b[0;36mcontinuation\u001b[0;34m(new_details, request)\u001b[0m\n\u001b[1;32m    314\u001b[0m             \u001b[0;32mtry\u001b[0m\u001b[0;34m:\u001b[0m\u001b[0;34m\u001b[0m\u001b[0;34m\u001b[0m\u001b[0m\n\u001b[0;32m--> 315\u001b[0;31m                 response, call = self._thunk(new_method).with_call(\n\u001b[0m\u001b[1;32m    316\u001b[0m                     \u001b[0mrequest\u001b[0m\u001b[0;34m,\u001b[0m\u001b[0;34m\u001b[0m\u001b[0;34m\u001b[0m\u001b[0m\n",
            "\u001b[0;32m/usr/local/lib/python3.11/dist-packages/grpc/_channel.py\u001b[0m in \u001b[0;36mwith_call\u001b[0;34m(self, request, timeout, metadata, credentials, wait_for_ready, compression)\u001b[0m\n\u001b[1;32m   1197\u001b[0m         )\n\u001b[0;32m-> 1198\u001b[0;31m         \u001b[0;32mreturn\u001b[0m \u001b[0m_end_unary_response_blocking\u001b[0m\u001b[0;34m(\u001b[0m\u001b[0mstate\u001b[0m\u001b[0;34m,\u001b[0m \u001b[0mcall\u001b[0m\u001b[0;34m,\u001b[0m \u001b[0;32mTrue\u001b[0m\u001b[0;34m,\u001b[0m \u001b[0;32mNone\u001b[0m\u001b[0;34m)\u001b[0m\u001b[0;34m\u001b[0m\u001b[0;34m\u001b[0m\u001b[0m\n\u001b[0m\u001b[1;32m   1199\u001b[0m \u001b[0;34m\u001b[0m\u001b[0m\n",
            "\u001b[0;32m/usr/local/lib/python3.11/dist-packages/grpc/_channel.py\u001b[0m in \u001b[0;36m_end_unary_response_blocking\u001b[0;34m(state, call, with_call, deadline)\u001b[0m\n\u001b[1;32m   1005\u001b[0m     \u001b[0;32melse\u001b[0m\u001b[0;34m:\u001b[0m\u001b[0;34m\u001b[0m\u001b[0;34m\u001b[0m\u001b[0m\n\u001b[0;32m-> 1006\u001b[0;31m         \u001b[0;32mraise\u001b[0m \u001b[0m_InactiveRpcError\u001b[0m\u001b[0;34m(\u001b[0m\u001b[0mstate\u001b[0m\u001b[0;34m)\u001b[0m  \u001b[0;31m# pytype: disable=not-instantiable\u001b[0m\u001b[0;34m\u001b[0m\u001b[0;34m\u001b[0m\u001b[0m\n\u001b[0m\u001b[1;32m   1007\u001b[0m \u001b[0;34m\u001b[0m\u001b[0m\n",
            "\u001b[0;31m_InactiveRpcError\u001b[0m: <_InactiveRpcError of RPC that terminated with:\n\tstatus = StatusCode.PERMISSION_DENIED\n\tdetails = \"Vertex AI API has not been used in project deploy-agent-on-agent-engine before or it is disabled. Enable it by visiting https://console.developers.google.com/apis/api/aiplatform.googleapis.com/overview?project=deploy-agent-on-agent-engine then retry. If you enabled this API recently, wait a few minutes for the action to propagate to our systems and retry.\"\n\tdebug_error_string = \"UNKNOWN:Error received from peer ipv4:142.250.107.95:443 {grpc_status:7, grpc_message:\"Vertex AI API has not been used in project deploy-agent-on-agent-engine before or it is disabled. Enable it by visiting https://console.developers.google.com/apis/api/aiplatform.googleapis.com/overview?project=deploy-agent-on-agent-engine then retry. If you enabled this API recently, wait a few minutes for the action to propagate to our systems and retry.\"}\"\n>",
            "\nThe above exception was the direct cause of the following exception:\n",
            "\u001b[0;31mPermissionDenied\u001b[0m                          Traceback (most recent call last)",
            "\u001b[0;32m<ipython-input-12-962168825>\u001b[0m in \u001b[0;36m<cell line: 0>\u001b[0;34m()\u001b[0m\n\u001b[1;32m      1\u001b[0m \u001b[0;32mfrom\u001b[0m \u001b[0mvertexai\u001b[0m \u001b[0;32mimport\u001b[0m \u001b[0magent_engines\u001b[0m\u001b[0;34m\u001b[0m\u001b[0;34m\u001b[0m\u001b[0m\n\u001b[1;32m      2\u001b[0m \u001b[0;34m\u001b[0m\u001b[0m\n\u001b[0;32m----> 3\u001b[0;31m remote_app = agent_engines.create(\n\u001b[0m\u001b[1;32m      4\u001b[0m     \u001b[0magent_engine\u001b[0m\u001b[0;34m=\u001b[0m\u001b[0mapp\u001b[0m\u001b[0;34m,\u001b[0m\u001b[0;34m\u001b[0m\u001b[0;34m\u001b[0m\u001b[0m\n\u001b[1;32m      5\u001b[0m     requirements=[\n",
            "\u001b[0;32m/usr/local/lib/python3.11/dist-packages/vertexai/agent_engines/__init__.py\u001b[0m in \u001b[0;36mcreate\u001b[0;34m(agent_engine, requirements, display_name, description, gcs_dir_name, extra_packages, env_vars)\u001b[0m\n\u001b[1;32m    146\u001b[0m         \u001b[0mnonexistent\u001b[0m \u001b[0mfile\u001b[0m\u001b[0;34m.\u001b[0m\u001b[0;34m\u001b[0m\u001b[0;34m\u001b[0m\u001b[0m\n\u001b[1;32m    147\u001b[0m     \"\"\"\n\u001b[0;32m--> 148\u001b[0;31m     return AgentEngine.create(\n\u001b[0m\u001b[1;32m    149\u001b[0m         \u001b[0magent_engine\u001b[0m\u001b[0;34m=\u001b[0m\u001b[0magent_engine\u001b[0m\u001b[0;34m,\u001b[0m\u001b[0;34m\u001b[0m\u001b[0;34m\u001b[0m\u001b[0m\n\u001b[1;32m    150\u001b[0m         \u001b[0mrequirements\u001b[0m\u001b[0;34m=\u001b[0m\u001b[0mrequirements\u001b[0m\u001b[0;34m,\u001b[0m\u001b[0;34m\u001b[0m\u001b[0;34m\u001b[0m\u001b[0m\n",
            "\u001b[0;32m/usr/local/lib/python3.11/dist-packages/vertexai/agent_engines/_agent_engines.py\u001b[0m in \u001b[0;36mcreate\u001b[0;34m(cls, agent_engine, requirements, display_name, description, gcs_dir_name, extra_packages, env_vars)\u001b[0m\n\u001b[1;32m    462\u001b[0m             \u001b[0mreasoning_engine\u001b[0m\u001b[0;34m.\u001b[0m\u001b[0mspec\u001b[0m \u001b[0;34m=\u001b[0m \u001b[0magent_engine_spec\u001b[0m\u001b[0;34m\u001b[0m\u001b[0;34m\u001b[0m\u001b[0m\n\u001b[1;32m    463\u001b[0m             \u001b[0mreasoning_engine\u001b[0m\u001b[0;34m.\u001b[0m\u001b[0mspec\u001b[0m\u001b[0;34m.\u001b[0m\u001b[0magent_framework\u001b[0m \u001b[0;34m=\u001b[0m \u001b[0m_get_agent_framework\u001b[0m\u001b[0;34m(\u001b[0m\u001b[0magent_engine\u001b[0m\u001b[0;34m)\u001b[0m\u001b[0;34m\u001b[0m\u001b[0;34m\u001b[0m\u001b[0m\n\u001b[0;32m--> 464\u001b[0;31m         operation_future = sdk_resource.api_client.create_reasoning_engine(\n\u001b[0m\u001b[1;32m    465\u001b[0m             parent=initializer.global_config.common_location_path(\n\u001b[1;32m    466\u001b[0m                 \u001b[0mproject\u001b[0m\u001b[0;34m=\u001b[0m\u001b[0msdk_resource\u001b[0m\u001b[0;34m.\u001b[0m\u001b[0mproject\u001b[0m\u001b[0;34m,\u001b[0m \u001b[0mlocation\u001b[0m\u001b[0;34m=\u001b[0m\u001b[0msdk_resource\u001b[0m\u001b[0;34m.\u001b[0m\u001b[0mlocation\u001b[0m\u001b[0;34m\u001b[0m\u001b[0;34m\u001b[0m\u001b[0m\n",
            "\u001b[0;32m/usr/local/lib/python3.11/dist-packages/google/cloud/aiplatform_v1/services/reasoning_engine_service/client.py\u001b[0m in \u001b[0;36mcreate_reasoning_engine\u001b[0;34m(self, request, parent, reasoning_engine, retry, timeout, metadata)\u001b[0m\n\u001b[1;32m    891\u001b[0m \u001b[0;34m\u001b[0m\u001b[0m\n\u001b[1;32m    892\u001b[0m         \u001b[0;31m# Send the request.\u001b[0m\u001b[0;34m\u001b[0m\u001b[0;34m\u001b[0m\u001b[0m\n\u001b[0;32m--> 893\u001b[0;31m         response = rpc(\n\u001b[0m\u001b[1;32m    894\u001b[0m             \u001b[0mrequest\u001b[0m\u001b[0;34m,\u001b[0m\u001b[0;34m\u001b[0m\u001b[0;34m\u001b[0m\u001b[0m\n\u001b[1;32m    895\u001b[0m             \u001b[0mretry\u001b[0m\u001b[0;34m=\u001b[0m\u001b[0mretry\u001b[0m\u001b[0;34m,\u001b[0m\u001b[0;34m\u001b[0m\u001b[0;34m\u001b[0m\u001b[0m\n",
            "\u001b[0;32m/usr/local/lib/python3.11/dist-packages/google/api_core/gapic_v1/method.py\u001b[0m in \u001b[0;36m__call__\u001b[0;34m(self, timeout, retry, compression, *args, **kwargs)\u001b[0m\n\u001b[1;32m    129\u001b[0m             \u001b[0mkwargs\u001b[0m\u001b[0;34m[\u001b[0m\u001b[0;34m\"compression\"\u001b[0m\u001b[0;34m]\u001b[0m \u001b[0;34m=\u001b[0m \u001b[0mcompression\u001b[0m\u001b[0;34m\u001b[0m\u001b[0;34m\u001b[0m\u001b[0m\n\u001b[1;32m    130\u001b[0m \u001b[0;34m\u001b[0m\u001b[0m\n\u001b[0;32m--> 131\u001b[0;31m         \u001b[0;32mreturn\u001b[0m \u001b[0mwrapped_func\u001b[0m\u001b[0;34m(\u001b[0m\u001b[0;34m*\u001b[0m\u001b[0margs\u001b[0m\u001b[0;34m,\u001b[0m \u001b[0;34m**\u001b[0m\u001b[0mkwargs\u001b[0m\u001b[0;34m)\u001b[0m\u001b[0;34m\u001b[0m\u001b[0;34m\u001b[0m\u001b[0m\n\u001b[0m\u001b[1;32m    132\u001b[0m \u001b[0;34m\u001b[0m\u001b[0m\n\u001b[1;32m    133\u001b[0m \u001b[0;34m\u001b[0m\u001b[0m\n",
            "\u001b[0;32m/usr/local/lib/python3.11/dist-packages/google/api_core/grpc_helpers.py\u001b[0m in \u001b[0;36merror_remapped_callable\u001b[0;34m(*args, **kwargs)\u001b[0m\n\u001b[1;32m     76\u001b[0m             \u001b[0;32mreturn\u001b[0m \u001b[0mcallable_\u001b[0m\u001b[0;34m(\u001b[0m\u001b[0;34m*\u001b[0m\u001b[0margs\u001b[0m\u001b[0;34m,\u001b[0m \u001b[0;34m**\u001b[0m\u001b[0mkwargs\u001b[0m\u001b[0;34m)\u001b[0m\u001b[0;34m\u001b[0m\u001b[0;34m\u001b[0m\u001b[0m\n\u001b[1;32m     77\u001b[0m         \u001b[0;32mexcept\u001b[0m \u001b[0mgrpc\u001b[0m\u001b[0;34m.\u001b[0m\u001b[0mRpcError\u001b[0m \u001b[0;32mas\u001b[0m \u001b[0mexc\u001b[0m\u001b[0;34m:\u001b[0m\u001b[0;34m\u001b[0m\u001b[0;34m\u001b[0m\u001b[0m\n\u001b[0;32m---> 78\u001b[0;31m             \u001b[0;32mraise\u001b[0m \u001b[0mexceptions\u001b[0m\u001b[0;34m.\u001b[0m\u001b[0mfrom_grpc_error\u001b[0m\u001b[0;34m(\u001b[0m\u001b[0mexc\u001b[0m\u001b[0;34m)\u001b[0m \u001b[0;32mfrom\u001b[0m \u001b[0mexc\u001b[0m\u001b[0;34m\u001b[0m\u001b[0;34m\u001b[0m\u001b[0m\n\u001b[0m\u001b[1;32m     79\u001b[0m \u001b[0;34m\u001b[0m\u001b[0m\n\u001b[1;32m     80\u001b[0m     \u001b[0;32mreturn\u001b[0m \u001b[0merror_remapped_callable\u001b[0m\u001b[0;34m\u001b[0m\u001b[0;34m\u001b[0m\u001b[0m\n",
            "\u001b[0;31mPermissionDenied\u001b[0m: 403 Vertex AI API has not been used in project deploy-agent-on-agent-engine before or it is disabled. Enable it by visiting https://console.developers.google.com/apis/api/aiplatform.googleapis.com/overview?project=deploy-agent-on-agent-engine then retry. If you enabled this API recently, wait a few minutes for the action to propagate to our systems and retry. [reason: \"SERVICE_DISABLED\"\ndomain: \"googleapis.com\"\nmetadata {\n  key: \"service\"\n  value: \"aiplatform.googleapis.com\"\n}\nmetadata {\n  key: \"serviceTitle\"\n  value: \"Vertex AI API\"\n}\nmetadata {\n  key: \"containerInfo\"\n  value: \"deploy-agent-on-agent-engine\"\n}\nmetadata {\n  key: \"consumer\"\n  value: \"projects/deploy-agent-on-agent-engine\"\n}\nmetadata {\n  key: \"activationUrl\"\n  value: \"https://console.developers.google.com/apis/api/aiplatform.googleapis.com/overview?project=deploy-agent-on-agent-engine\"\n}\n, locale: \"en-US\"\nmessage: \"Vertex AI API has not been used in project deploy-agent-on-agent-engine before or it is disabled. Enable it by visiting https://console.developers.google.com/apis/api/aiplatform.googleapis.com/overview?project=deploy-agent-on-agent-engine then retry. If you enabled this API recently, wait a few minutes for the action to propagate to our systems and retry.\"\n, links {\n  description: \"Google developers console API activation\"\n  url: \"https://console.developers.google.com/apis/api/aiplatform.googleapis.com/overview?project=deploy-agent-on-agent-engine\"\n}\n]"
          ]
        }
      ]
    },
    {
      "cell_type": "markdown",
      "source": [
        "# Create a Remote Session on Deployed Agent"
      ],
      "metadata": {
        "id": "vjAmxX3gBmfV"
      }
    },
    {
      "cell_type": "code",
      "source": [
        "remote_session = remote_app.create_session(user_id=\"u_456\")\n",
        "remote_session"
      ],
      "metadata": {
        "colab": {
          "base_uri": "https://localhost:8080/",
          "height": 162
        },
        "id": "kf3lHzJTBq0J",
        "outputId": "2ece2684-1e7e-4b0e-8586-dc9b36576665"
      },
      "execution_count": null,
      "outputs": [
        {
          "output_type": "error",
          "ename": "NameError",
          "evalue": "name 'remote_app' is not defined",
          "traceback": [
            "\u001b[0;31m---------------------------------------------------------------------------\u001b[0m",
            "\u001b[0;31mNameError\u001b[0m                                 Traceback (most recent call last)",
            "\u001b[0;32m<ipython-input-77-890467498>\u001b[0m in \u001b[0;36m<cell line: 0>\u001b[0;34m()\u001b[0m\n\u001b[0;32m----> 1\u001b[0;31m \u001b[0mremote_session\u001b[0m \u001b[0;34m=\u001b[0m \u001b[0mremote_app\u001b[0m\u001b[0;34m.\u001b[0m\u001b[0mcreate_session\u001b[0m\u001b[0;34m(\u001b[0m\u001b[0muser_id\u001b[0m\u001b[0;34m=\u001b[0m\u001b[0;34m\"u_456\"\u001b[0m\u001b[0;34m)\u001b[0m\u001b[0;34m\u001b[0m\u001b[0;34m\u001b[0m\u001b[0m\n\u001b[0m\u001b[1;32m      2\u001b[0m \u001b[0mremote_session\u001b[0m\u001b[0;34m\u001b[0m\u001b[0;34m\u001b[0m\u001b[0m\n",
            "\u001b[0;31mNameError\u001b[0m: name 'remote_app' is not defined"
          ]
        }
      ]
    },
    {
      "cell_type": "markdown",
      "source": [
        "# List Remote Session"
      ],
      "metadata": {
        "id": "jMOR8ZpTBt4x"
      }
    },
    {
      "cell_type": "code",
      "source": [
        "remote_active_sessions = remote_app.list_sessions(user_id=\"456\")\n",
        "remote_active_sessions"
      ],
      "metadata": {
        "id": "UIogDutqBx4f"
      },
      "execution_count": null,
      "outputs": []
    },
    {
      "cell_type": "markdown",
      "source": [
        "# Get a Specific Remote Session"
      ],
      "metadata": {
        "id": "8sXeQp0IB08F"
      }
    },
    {
      "cell_type": "code",
      "source": [
        "remote_app.get_session(user_id=\"u_456\", session_id=remote_session[\"id\"])"
      ],
      "metadata": {
        "id": "cfnM3aO-B4ne"
      },
      "execution_count": null,
      "outputs": []
    },
    {
      "cell_type": "markdown",
      "source": [
        "# Send Query to Deployed Agent"
      ],
      "metadata": {
        "id": "4C6b0DVeB8oh"
      }
    },
    {
      "cell_type": "code",
      "source": [
        "for event in remote_app.stream_query(\n",
        "    user_id=\"u_456\",\n",
        "    session_id=remote_session[\"id\"],\n",
        "    message=\"whats the weather in calgary, Canada\",\n",
        "):\n",
        "    print(event)"
      ],
      "metadata": {
        "id": "dHRVXWfKCBCS"
      },
      "execution_count": null,
      "outputs": []
    },
    {
      "cell_type": "markdown",
      "source": [
        "# Retrieve an Existing Deployed Agent"
      ],
      "metadata": {
        "id": "CZS03FjACETr"
      }
    },
    {
      "cell_type": "code",
      "source": [],
      "metadata": {
        "id": "3Nk11Mi0CIH-"
      },
      "execution_count": null,
      "outputs": []
    }
  ]
}